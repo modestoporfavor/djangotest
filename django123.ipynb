{
  "cells": [
    {
      "cell_type": "markdown",
      "metadata": {
        "id": "view-in-github",
        "colab_type": "text"
      },
      "source": [
        "<a href=\"https://colab.research.google.com/github/modestoporfavor/djangotest/blob/main/django123.ipynb\" target=\"_parent\"><img src=\"https://colab.research.google.com/assets/colab-badge.svg\" alt=\"Open In Colab\"/></a>"
      ]
    },
    {
      "cell_type": "code",
      "execution_count": null,
      "metadata": {
        "id": "VVTlAlrOf7Eh"
      },
      "outputs": [],
      "source": [
        "!python manage.py runserver 8051"
      ]
    },
    {
      "cell_type": "code",
      "source": [
        "# !git config --global user.email \"modesto1883@gmail.com\"\n",
        "# !git config --global user.name \"modestoporfavor\"\n",
        "\n",
        "# !git add .\n",
        "# !git commit -m \"first commit\"\n",
        "!git branch -M main\n",
        "!git remote add origin https://github.com/modestoporfavor/djangotest.git\n",
        "!git push -u origin main"
      ],
      "metadata": {
        "colab": {
          "base_uri": "https://localhost:8080/"
        },
        "id": "xGqEWZ89d2wb",
        "outputId": "9dca55dd-04bb-4ee5-e924-55b5ffac83d0"
      },
      "execution_count": 73,
      "outputs": [
        {
          "output_type": "stream",
          "name": "stdout",
          "text": [
            "fatal: remote origin already exists.\n",
            "fatal: could not read Username for 'https://github.com': No such device or address\n"
          ]
        }
      ]
    },
    {
      "cell_type": "code",
      "source": [
        "!git config --global user.name \"modestoporfavor@github.com\""
      ],
      "metadata": {
        "id": "_vI_xCwmejHR"
      },
      "execution_count": 72,
      "outputs": []
    },
    {
      "cell_type": "code",
      "source": [
        "!from pyngrok import ngrok\n",
        "ngrok.kill()\n",
        "auth_token= \"2RtLRnwq9Vb1NXFAvGRcifLD3hc_6RBwNa1LsUFJVnSRxxBxn\"\n",
        "ngrok.set_auth_token(auth_token)\n",
        "ngrok.connect(8051)"
      ],
      "metadata": {
        "id": "W7LncfkJWAto"
      },
      "execution_count": null,
      "outputs": []
    }
  ],
  "metadata": {
    "colab": {
      "provenance": [],
      "authorship_tag": "ABX9TyN4IrwrA+CxtbtoQULhoDA5",
      "include_colab_link": true
    },
    "kernelspec": {
      "display_name": "Python 3",
      "name": "python3"
    },
    "language_info": {
      "name": "python"
    }
  },
  "nbformat": 4,
  "nbformat_minor": 0
}